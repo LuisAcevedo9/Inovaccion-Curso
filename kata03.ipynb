{
 "cells": [
  {
   "cell_type": "markdown",
   "metadata": {},
   "source": [
    "Añadir el código necesario para crear una variable que guarde la velocidad del asteroide.\n",
    "Escribe una expresión de prueba para calcular si necesita una advertencia.\n",
    "Agregue las instrucciones que se ejecutarán si la expresión de prueba es true o false."
   ]
  },
  {
   "cell_type": "code",
   "execution_count": 2,
   "metadata": {},
   "outputs": [
    {
     "name": "stdout",
     "output_type": "stream",
     "text": [
      "¡Tengan cuidado! Un asteroide se acerca muy rapido\n"
     ]
    }
   ],
   "source": [
    "asteroideVelocidad = 49\n",
    "if asteroideVelocidad > 25:\n",
    "    print('¡Tengan cuidado! Un asteroide se acerca muy rapido')\n",
    "else:\n",
    "    print('Todo en orden :D')\n"
   ]
  },
  {
   "cell_type": "markdown",
   "metadata": {},
   "source": [
    "Agrega el código para crear una variable para un asteroide que viaja a 19 km/s\n",
    "Escribe varias expresiones de prueba para determinar si puedes ver el rayo de luz desde la tierra\n",
    "Agrega las instrucciones que se ejecutarán si las expresiones de prueba son True o False"
   ]
  },
  {
   "cell_type": "code",
   "execution_count": 1,
   "metadata": {},
   "outputs": [
    {
     "name": "stdout",
     "output_type": "stream",
     "text": [
      "¡Todo en orden!:D\n"
     ]
    }
   ],
   "source": [
    "asteroideVelocidad = 19\n",
    "if asteroideVelocidad > 20:\n",
    "    print('¡Voltea hacia arriba, se puede ver un rayo de luz de un asteoride en el cielo!')\n",
    "elif asteroideVelocidad == 20:\n",
    "    print('¡Voltea hacia arriba, se puede ver un rayo de luz de un asteoride en el cielo!')\n",
    "else:\n",
    "    print('¡Todo en orden!:D')"
   ]
  },
  {
   "cell_type": "markdown",
   "metadata": {},
   "source": [
    "Agrega el código para crear nuevas variables para la velocidad y el tamaño del asteroide\n",
    "Para probar el código, prueba con varias velocidades y tamaños\n",
    "Escribe varias expresiones de prueba o combinaciones de expresiones de prueba para determinar qué mensaje se debe enviar a Tierra."
   ]
  },
  {
   "cell_type": "code",
   "execution_count": 5,
   "metadata": {},
   "outputs": [
    {
     "name": "stdout",
     "output_type": "stream",
     "text": [
      "¡Tengan cuidado! Un asteroide se acerca muy rapido y es demasiado grande\n"
     ]
    }
   ],
   "source": [
    "asteroideVelocidad = 26\n",
    "asteroideTamano = 500\n",
    "if asteroideVelocidad > 25 and asteroideTamano > 25:\n",
    "    print('¡Tengan cuidado! Un asteroide se acerca muy rapido y es demasiado grande')\n",
    "elif asteroideVelocidad >= 20:\n",
    "    print('¡Voltea hacia arriba, se puede ver un rayo de luz de un asteoride en el cielo!')\n",
    "elif asteroideTamano < 25:\n",
    "    print('¡Todo en orden!:D')\n",
    "else:\n",
    "    print('¡Todo en orden!:D')"
   ]
  }
 ],
 "metadata": {
  "interpreter": {
   "hash": "63fd5069d213b44bf678585dea6b12cceca9941eaf7f819626cde1f2670de90d"
  },
  "kernelspec": {
   "display_name": "Python 3.9.7 64-bit",
   "language": "python",
   "name": "python3"
  },
  "language_info": {
   "codemirror_mode": {
    "name": "ipython",
    "version": 3
   },
   "file_extension": ".py",
   "mimetype": "text/x-python",
   "name": "python",
   "nbconvert_exporter": "python",
   "pygments_lexer": "ipython3",
   "version": "3.9.7"
  },
  "orig_nbformat": 4
 },
 "nbformat": 4,
 "nbformat_minor": 2
}
